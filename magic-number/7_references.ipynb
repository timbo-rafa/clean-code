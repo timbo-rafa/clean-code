{
 "metadata": {
  "language_info": {
   "codemirror_mode": {
    "name": "ipython",
    "version": 3
   },
   "file_extension": ".py",
   "mimetype": "text/x-python",
   "name": "python",
   "nbconvert_exporter": "python",
   "pygments_lexer": "ipython3",
   "version": 3
  },
  "orig_nbformat": 2
 },
 "nbformat": 4,
 "nbformat_minor": 2,
 "cells": [
  {
   "source": [
    "# References\n",
    "\n",
    "\n",
    "## Testing on the Toilet: Avoid Hardcoding Values for Better Libraries\n",
    "https://testing.googleblog.com/2020/08/testing-on-toilet-avoid-hardcoding.html\n",
    "\n",
    "## Wikipedia: Magic Number\n",
    "https://en.wikipedia.org/wiki/Magic_number_(programming)"
   ],
   "cell_type": "markdown",
   "metadata": {}
  }
 ]
}