{
 "metadata": {
  "language_info": {
   "codemirror_mode": {
    "name": "ipython",
    "version": 3
   },
   "file_extension": ".py",
   "mimetype": "text/x-python",
   "name": "python",
   "nbconvert_exporter": "python",
   "pygments_lexer": "ipython3",
   "version": "3.9.0-final"
  },
  "orig_nbformat": 2,
  "kernelspec": {
   "name": "Python 3.9.0 64-bit",
   "display_name": "Python 3.9.0 64-bit",
   "metadata": {
    "interpreter": {
     "hash": "36cf16204b8548560b1c020c4e8fb5b57f0e4c58016f52f2d4be01e192833930"
    }
   }
  }
 },
 "nbformat": 4,
 "nbformat_minor": 2,
 "cells": [
  {
   "source": [
    "# get_thumbnails: v2\n",
    "### Com Constante:\n",
    "- Legível\n",
    "- DRY\n",
    "- Sem ambiguidade"
   ],
   "cell_type": "markdown",
   "metadata": {}
  },
  {
   "cell_type": "code",
   "execution_count": 1,
   "metadata": {},
   "outputs": [],
   "source": [
    "Pixel = list[int]\n",
    "Image = list[Pixel]"
   ]
  },
  {
   "cell_type": "code",
   "execution_count": 2,
   "metadata": {},
   "outputs": [],
   "source": [
    "k_thumbnail_sizes = (480, 576, 720)\n",
    "\n",
    "def get_thumbnails(image: Image)-> list[Image]:\n",
    "    thumbnails = []\n",
    "    for size in k_thumbnail_sizes:\n",
    "        thumbnails.append(resize_image(image, size))\n",
    "    \n",
    "    return thumbnails"
   ]
  },
  {
   "source": [
    "![expandingbrain2](https://mat3e.github.io/brains/img/1.jpg)"
   ],
   "cell_type": "markdown",
   "metadata": {}
  }
 ]
}