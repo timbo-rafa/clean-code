{
 "cells": [
  {
   "cell_type": "markdown",
   "metadata": {},
   "source": [
    "# Avoid Hardcoding Values for Better Libraries\n"
   ]
  },
  {
   "cell_type": "markdown",
   "metadata": {},
   "source": [
    "# O que é um _magic number_?\n",
    "> Má prática de programação que consiste em usar números obscuros diretamente no código fonte.\n",
    "\n",
    "- Dificulta entendimento e manutenção do código"
   ]
  },
  {
   "source": [
    "<div style=\"float:left;\">\n",
    "<img src=\"https://i1.wp.com/www.erindorpress.com/wp-content/uploads/2019/06/binary.jpg?fit=590%2C290&ssl=1\" style=\"height:200px;\" />\n"
   ],
   "cell_type": "markdown",
   "metadata": {}
  }
 ],
 "metadata": {
  "kernelspec": {
   "name": "Python 3.9.0 64-bit",
   "display_name": "Python 3.9.0 64-bit",
   "metadata": {
    "interpreter": {
     "hash": "31f2aee4e71d21fbe5cf8b01ff0e069b9275f58929596ceb00d14d90e3e16cd6"
    }
   }
  },
  "language_info": {
   "codemirror_mode": {
    "name": "ipython",
    "version": 3
   },
   "file_extension": ".py",
   "mimetype": "text/x-python",
   "name": "python",
   "nbconvert_exporter": "python",
   "pygments_lexer": "ipython3",
   "version": "3.9.0-final"
  }
 },
 "nbformat": 4,
 "nbformat_minor": 4
}