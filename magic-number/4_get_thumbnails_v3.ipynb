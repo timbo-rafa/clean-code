{
 "metadata": {
  "language_info": {
   "codemirror_mode": {
    "name": "ipython",
    "version": 3
   },
   "file_extension": ".py",
   "mimetype": "text/x-python",
   "name": "python",
   "nbconvert_exporter": "python",
   "pygments_lexer": "ipython3",
   "version": "3.8.2-final"
  },
  "orig_nbformat": 2,
  "kernelspec": {
   "name": "python3",
   "display_name": "Python 3"
  }
 },
 "nbformat": 4,
 "nbformat_minor": 2,
 "cells": [
  {
   "source": [
    "# get_thumbnails: v3\n",
    "### default parameter\n",
    "- Reusável\n",
    "- Testável"
   ],
   "cell_type": "markdown",
   "metadata": {}
  },
  {
   "cell_type": "code",
   "execution_count": null,
   "metadata": {},
   "outputs": [],
   "source": [
    "Pixel = list[int]\n",
    "Image = list[Pixel]"
   ]
  },
  {
   "cell_type": "code",
   "execution_count": null,
   "metadata": {},
   "outputs": [],
   "source": [
    "def get_thumbnails(\n",
    "        image: Image,\n",
    "        k_thumbnail_sizes : tuple[int] = (480, 576, 720)) -> list[Image]:\n",
    "    thumbnails = []\n",
    "    for size in k_thumbnail_sizes:\n",
    "        thumbnails.append(resize_image(image, size))\n",
    "    \n",
    "    return thumbnails"
   ]
  },
  {
   "source": [
    "![expandingbrain3](https://vignette.wikia.nocookie.net/theyayapocalypse/images/6/65/Galaxybrain.png/revision/latest/scale-to-width-down/340?cb=20190827154717)"
   ],
   "cell_type": "markdown",
   "metadata": {}
  }
 ]
}