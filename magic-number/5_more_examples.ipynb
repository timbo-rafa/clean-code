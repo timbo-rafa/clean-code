{
 "metadata": {
  "language_info": {
   "codemirror_mode": {
    "name": "ipython",
    "version": 3
   },
   "file_extension": ".py",
   "mimetype": "text/x-python",
   "name": "python",
   "nbconvert_exporter": "python",
   "pygments_lexer": "ipython3",
   "version": "3.8.2-final"
  },
  "orig_nbformat": 2,
  "kernelspec": {
   "name": "python3",
   "display_name": "Python 3"
  }
 },
 "nbformat": 4,
 "nbformat_minor": 2,
 "cells": [
  {
   "source": [
    "# Mais Exemplos"
   ],
   "cell_type": "markdown",
   "metadata": {}
  },
  {
   "source": [
    "### Magic Numbers podem ser strings"
   ],
   "cell_type": "markdown",
   "metadata": {}
  },
  {
   "cell_type": "code",
   "execution_count": 2,
   "metadata": {},
   "outputs": [],
   "source": [
    "# Multiplas ocurrencias de strings (em testes)\n",
    "expected_employee = \"John\"\n",
    "\n",
    "def test_employee_of_the_month():\n",
    "    actual_employee = get_employee_of_the_month()\n",
    "\n",
    "    assert actual_employee == expected_employee\n",
    "\n",
    "\n",
    "def test_get_employee():\n",
    "    actual_employee = get_employee()\n",
    "\n",
    "    assert actual_employee == expected_employee"
   ]
  },
  {
   "source": [
    "### Prevenir typos"
   ],
   "cell_type": "markdown",
   "metadata": {}
  },
  {
   "cell_type": "code",
   "execution_count": null,
   "metadata": {},
   "outputs": [],
   "source": [
    "customerId = \"731a52c2-5bc8-4c27-83c0-a73495752265\"\n",
    "pi = 3.14159265358979323846"
   ]
  }
 ]
}